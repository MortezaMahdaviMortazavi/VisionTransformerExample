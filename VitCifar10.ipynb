{
  "nbformat": 4,
  "nbformat_minor": 0,
  "metadata": {
    "colab": {
      "provenance": [],
      "collapsed_sections": []
    },
    "kernelspec": {
      "name": "python3",
      "display_name": "Python 3"
    },
    "language_info": {
      "name": "python"
    },
    "accelerator": "GPU"
  },
  "cells": [
    {
      "cell_type": "code",
      "source": [
        "import torch\n",
        "import torch.nn.functional as F\n",
        "import matplotlib.pyplot as plt\n",
        "import numpy as np\n",
        "from torch import nn\n",
        "from torch import Tensor\n",
        "from PIL import Image\n",
        "from torchvision.transforms import Compose, Resize, ToTensor\n",
        "from einops import rearrange, reduce, repeat\n",
        "from einops.layers.torch import Rearrange, Reduce\n",
        "from torchsummary import summary\n",
        "import torchvision as tv\n",
        "from torch.utils.data import DataLoader as DataLoader\n",
        "from torchvision import datasets\n",
        "from time import time"
      ],
      "metadata": {
        "id": "iT2uq1knb4so"
      },
      "execution_count": 56,
      "outputs": []
    },
    {
      "cell_type": "code",
      "source": [
        "patch_size = 16 # 16 pixels\n",
        "# patches = rearrange(x, 'b c (h s1) (w s2) -> b (h w) (s1 s2 c)', s1=patch_size, s2=patch_size)\n",
        "# patches.shape\n",
        "x = torch.randn((1,3,64,64))"
      ],
      "metadata": {
        "id": "159Ucj66cjg8"
      },
      "execution_count": 24,
      "outputs": []
    },
    {
      "cell_type": "code",
      "source": [
        "class PatchEmbedding(nn.Module):\n",
        "  def __init__(self,in_channels=3,patch_size=16,embed_size=768,img_size=64): # embed size is base on patch_size * patch_size * in_channels\n",
        "    self.patch_size = patch_size\n",
        "    super().__init__()\n",
        "    self.linear_projection = nn.Sequential( ### Linear Projection image\n",
        "            # break-down the image in s1 x s2 patches and flat them\n",
        "            Rearrange('b c (h s1) (w s2) -> b (h w) (s1 s2 c)', s1=patch_size, s2=patch_size),\n",
        "            nn.Linear(patch_size * patch_size * in_channels, embed_size)\n",
        "    )\n",
        "    self.conv_projection = nn.Sequential( # Projection with Convolution 2d\n",
        "        nn.Conv2d(in_channels=in_channels,out_channels=embed_size,kernel_size=patch_size,stride=patch_size),\n",
        "        Rearrange('b e (h) (w) -> b (h w) e'),\n",
        "\n",
        "    )\n",
        "\n",
        "    self.cls_token = nn.Parameter(torch.randn(1,1,embed_size))\n",
        "     # The position embedding is just a tensor of shape N_PATCHES + 1 (token), EMBED_SIZE that is added to the projected patches\n",
        "    self.positions = nn.Parameter(torch.randn((img_size//patch_size)**2 + 1, embed_size))\n",
        "   \n",
        "\n",
        "  def forward(self,x,projection='conv2d'): # both conv and linear projection are same but i code both of them for better understandig of my self\n",
        "    b , _ , _ , _ = x.shape # b is batch time or number of batch\n",
        "    \n",
        "    if projection == 'conv2d':\n",
        "      x = self.conv_projection(x) \n",
        "    else:\n",
        "      x = self.linear_projection(x)\n",
        "    cls_tokens = repeat(self.cls_token,'() n e -> b n e',b=b) # see pattern in index 1 of repeat\n",
        "\n",
        "    x = torch.cat([cls_tokens,x],dim=1)\n",
        "    # x shape is [1,tokens+cls_token,embed_size]\n",
        "    # positions shape is [tokens+cls_token,embed_size]\n",
        "    # Add the position embedding\n",
        "    x = x + self.positions\n",
        "  \n",
        "    return x"
      ],
      "metadata": {
        "id": "KS4wkFA1c7wo"
      },
      "execution_count": 25,
      "outputs": []
    },
    {
      "cell_type": "code",
      "source": [
        "PatchEmbed = PatchEmbedding()\n",
        "patch_image = PatchEmbed(x)\n",
        "patch_image.shape"
      ],
      "metadata": {
        "colab": {
          "base_uri": "https://localhost:8080/"
        },
        "id": "JvRruNlZdu7t",
        "outputId": "666f17b5-30f4-4f24-a73f-58af112ddc3e"
      },
      "execution_count": 26,
      "outputs": [
        {
          "output_type": "execute_result",
          "data": {
            "text/plain": [
              "torch.Size([1, 17, 768])"
            ]
          },
          "metadata": {},
          "execution_count": 26
        }
      ]
    },
    {
      "cell_type": "code",
      "source": [
        "# Attention take three input : queries , keys , values\n",
        "# in multihead attention computation is split across n_head with smaller input size\n",
        "class MultiHeadAttention(nn.Module):\n",
        "  def __init__(self,embed_size=512,num_heads=8,dropout=0.):\n",
        "    super().__init__()\n",
        "    self.embed_size = embed_size\n",
        "    self.num_heads = num_heads\n",
        "\n",
        "    self.keys = nn.Linear(embed_size,embed_size) # keys are a Dense layer with embed_size node \n",
        "    self.queries = nn.Linear(embed_size,embed_size) # queries are a Dense layer with embed_size node\n",
        "    self.values = nn.Linear(embed_size,embed_size) # values are a Dense layer with embed_size node\n",
        "\n",
        "    self.att_drop = nn.Dropout(dropout)\n",
        "    self.projection = nn.Linear(embed_size,embed_size)\n",
        "\n",
        "  def forward(self,x,mask:Tensor=None):\n",
        "    # split keys, queries and values in num_heads\n",
        "    queries = rearrange(self.queries,pattern=\"b n (h d) -> b h n d\",h=self.num_heads) # see pattern index 1\n",
        "    keys = rearrange(self.keys(x), \"b n (h d) -> b h n d\", h=self.num_heads) # see pattern index 1\n",
        "    values = rearrange(self.values(x), \"b n (h d) -> b h n d\", h=self.num_heads) # see pattern index 1\n",
        "    # sum up over the last axis\n",
        "    energy = torch.einsum('bhqd, bhkd -> bhqk', queries, keys) # batch, num_heads, query_len, key_len\n",
        "    # for einsum check https://pytorch.org/docs/stable/generated/torch.einsum.html\n",
        "    if mask is not None:\n",
        "      fill_value = torch.finfo(torch.float32).min # A torch.finfo is an object that represents the numerical properties of a floating point torch.dtype\n",
        "      energy.mask_fill(~mask, fill_value)\n",
        "    \n",
        "    scaling = self.embed_size ** (1/2)\n",
        "    att = F.softmax(energy,dim=-1) / scaling\n",
        "    att = self.att_drop(att)\n",
        "    # sum up over the third axis\n",
        "    out = torch.einsum('bhal, bhlv -> bhav ', att, values)\n",
        "    out = rearrange(out, \"b h n d -> b n (h d)\")\n",
        "    out = self.projection(out)\n",
        "    return out\n",
        "\n",
        "  # The resulting keys, queries, and values have a shape of BATCH, HEADS, SEQUENCE_LEN, EMBEDDING_SIZE.\n"
      ],
      "metadata": {
        "id": "l-n3oMR9d4O0"
      },
      "execution_count": 27,
      "outputs": []
    },
    {
      "cell_type": "code",
      "source": [
        "\n",
        "class MultiHeadAttention(nn.Module):\n",
        "    def __init__(self, emb_size: int = 768, num_heads: int = 8, dropout: float = 0):\n",
        "        super().__init__()\n",
        "        self.emb_size = emb_size\n",
        "        self.num_heads = num_heads\n",
        "        # fuse the queries, keys and values in one matrix\n",
        "        self.qkv = nn.Linear(emb_size, emb_size * 3)\n",
        "        self.att_drop = nn.Dropout(dropout)\n",
        "        self.projection = nn.Linear(emb_size, emb_size)\n",
        "        \n",
        "    def forward(self, x : Tensor, mask: Tensor = None) -> Tensor:\n",
        "        # split keys, queries and values in num_heads\n",
        "        qkv = rearrange(self.qkv(x), \"b n (h d qkv) -> (qkv) b h n d\", h=self.num_heads, qkv=3)\n",
        "        queries, keys, values = qkv[0], qkv[1], qkv[2]\n",
        "        # sum up over the last axis\n",
        "        energy = torch.einsum('bhqd, bhkd -> bhqk', queries, keys) # batch, num_heads, query_len, key_len\n",
        "        if mask is not None:\n",
        "            fill_value = torch.finfo(torch.float32).min\n",
        "            energy.mask_fill(~mask, fill_value)\n",
        "            \n",
        "        scaling = self.emb_size ** (1/2)\n",
        "        att = F.softmax(energy, dim=-1) / scaling\n",
        "        att = self.att_drop(att)\n",
        "        # sum up over the third axis\n",
        "        out = torch.einsum('bhal, bhlv -> bhav ', att, values)\n",
        "        out = rearrange(out, \"b h n d -> b n (h d)\")\n",
        "        out = self.projection(out)\n",
        "        return out\n",
        "    \n",
        "patches_embedded = PatchEmbedding()(x)\n",
        "MultiHeadAttention()(patches_embedded).shape"
      ],
      "metadata": {
        "colab": {
          "base_uri": "https://localhost:8080/"
        },
        "id": "XIXvQK5-tVoP",
        "outputId": "9ef85fae-ccc9-4a7c-ec43-a51a90d91c4e"
      },
      "execution_count": 29,
      "outputs": [
        {
          "output_type": "execute_result",
          "data": {
            "text/plain": [
              "torch.Size([1, 17, 768])"
            ]
          },
          "metadata": {},
          "execution_count": 29
        }
      ]
    },
    {
      "cell_type": "code",
      "source": [
        "\"\"\"the idea (really go and read The Illustrated Transformer )\n",
        " is to use the product between the queries and\n",
        "  the keys to knowing “how much” each element is the sequence in important with the rest.\n",
        "   Then, we use this information to scale the values. \"\"\""
      ],
      "metadata": {
        "colab": {
          "base_uri": "https://localhost:8080/",
          "height": 53
        },
        "id": "lYL-BcyXlrQK",
        "outputId": "b7a53e36-a916-4e4d-bf83-290ab7389054"
      },
      "execution_count": 30,
      "outputs": [
        {
          "output_type": "execute_result",
          "data": {
            "text/plain": [
              "'the idea (really go and read The Illustrated Transformer )\\n is to use the product between the queries and\\n  the keys to knowing “how much” each element is the sequence in important with the rest.\\n   Then, we use this information to scale the values. '"
            ],
            "application/vnd.google.colaboratory.intrinsic+json": {
              "type": "string"
            }
          },
          "metadata": {},
          "execution_count": 30
        }
      ]
    },
    {
      "cell_type": "code",
      "source": [
        "class ResidualAdd(nn.Module):\n",
        "  def __init__(self,fn):\n",
        "    super().__init__()\n",
        "    self.fn = fn\n",
        "\n",
        "  def forward(self,x,**kwargs):\n",
        "    res = x\n",
        "    x = self.fn(res,**kwargs)\n",
        "    x += res\n",
        "    return x\n"
      ],
      "metadata": {
        "id": "TdbNsZx3l78a"
      },
      "execution_count": 31,
      "outputs": []
    },
    {
      "cell_type": "code",
      "source": [
        "class FeedForwardBlock(nn.Sequential):\n",
        "    def __init__(self, emb_size: int, expansion: int = 4, drop_p: float = 0.):\n",
        "        super().__init__(\n",
        "            nn.Linear(emb_size, expansion * emb_size),\n",
        "            nn.GELU(),\n",
        "            nn.Dropout(drop_p),\n",
        "            nn.Linear(expansion * emb_size, emb_size),\n",
        "        )"
      ],
      "metadata": {
        "id": "HVzcsqVarAfD"
      },
      "execution_count": 32,
      "outputs": []
    },
    {
      "cell_type": "code",
      "source": [
        "class TransformerEncoderBlock(nn.Sequential):\n",
        "  def __init__(self,embed_size: int = 768,\n",
        "                 drop_p: float = 0.,\n",
        "                 forward_expansion: int = 4,\n",
        "                 forward_drop_p: float = 0.,\n",
        "                 ** kwargs):\n",
        "    super().__init__(\n",
        "        ResidualAdd(nn.Sequential(\n",
        "            nn.LayerNorm(embed_size),\n",
        "            MultiHeadAttention(embed_size, **kwargs),\n",
        "            nn.Dropout(drop_p)\n",
        "        )),\n",
        "        ResidualAdd(nn.Sequential(    \n",
        "            nn.LayerNorm(embed_size),\n",
        "            FeedForwardBlock(\n",
        "            embed_size, expansion=forward_expansion, drop_p=forward_drop_p),\n",
        "            nn.Dropout(drop_p)\n",
        "        ))\n",
        "    )\n",
        "\n",
        "# class TransformerEncoderBlock(nn.Sequential):\n",
        "#     def __init__(self,\n",
        "#                  emb_size: int = 768,\n",
        "#                  drop_p: float = 0.,\n",
        "#                  forward_expansion: int = 4,\n",
        "#                  forward_drop_p: float = 0.,\n",
        "#                  ** kwargs):\n",
        "#         super().__init__(\n",
        "#             ResidualAdd(nn.Sequential(\n",
        "#                 nn.LayerNorm(emb_size),\n",
        "#                 MultiHeadAttention(emb_size, **kwargs),\n",
        "#                 nn.Dropout(drop_p)\n",
        "#             )),\n",
        "#             ResidualAdd(nn.Sequential(\n",
        "#                 nn.LayerNorm(emb_size),\n",
        "#                 FeedForwardBlock(\n",
        "#                     emb_size, expansion=forward_expansion, drop_p=forward_drop_p),\n",
        "#                 nn.Dropout(drop_p)\n",
        "#             )\n",
        "#             ))"
      ],
      "metadata": {
        "id": "hWJJ_iH-rI1e"
      },
      "execution_count": 33,
      "outputs": []
    },
    {
      "cell_type": "code",
      "source": [
        "patches_embedded = PatchEmbedding()(x)\n",
        "TransformerEncoderBlock()(patches_embedded).shape"
      ],
      "metadata": {
        "colab": {
          "base_uri": "https://localhost:8080/"
        },
        "id": "x-t4oLHesIik",
        "outputId": "324d53dd-34be-4a75-9e3f-439d0d5ba95f"
      },
      "execution_count": 34,
      "outputs": [
        {
          "output_type": "execute_result",
          "data": {
            "text/plain": [
              "torch.Size([1, 17, 768])"
            ]
          },
          "metadata": {},
          "execution_count": 34
        }
      ]
    },
    {
      "cell_type": "code",
      "source": [
        "class TransformerEncoder(nn.Sequential):\n",
        "    def __init__(self, depth: int = 12, **kwargs):\n",
        "        super().__init__(*[TransformerEncoderBlock(**kwargs) for _ in range(depth)])"
      ],
      "metadata": {
        "id": "Zdm7429ssLR2"
      },
      "execution_count": 35,
      "outputs": []
    },
    {
      "cell_type": "code",
      "source": [
        "\n",
        "class ClassificationHead(nn.Sequential):\n",
        "    def __init__(self, emb_size: int = 768, n_classes: int = 10):\n",
        "        super().__init__(\n",
        "            Reduce('b n e -> b e', reduction='mean'),\n",
        "            nn.LayerNorm(emb_size), \n",
        "            nn.Linear(emb_size, n_classes))"
      ],
      "metadata": {
        "id": "SWz0z6R-uOG8"
      },
      "execution_count": 36,
      "outputs": []
    },
    {
      "cell_type": "code",
      "source": [
        "class ViT(nn.Sequential):\n",
        "    def __init__(self,     \n",
        "                in_channels: int = 3,\n",
        "                patch_size: int = 16,\n",
        "                emb_size: int = 768,\n",
        "                img_size: int = 64,\n",
        "                depth: int = 6,\n",
        "                n_classes: int = 10,\n",
        "                **kwargs):\n",
        "        super().__init__(\n",
        "            PatchEmbedding(in_channels, patch_size, emb_size, img_size),\n",
        "            TransformerEncoder(depth, embed_size=emb_size, **kwargs),\n",
        "            ClassificationHead(emb_size, n_classes)\n",
        "        )\n",
        "        "
      ],
      "metadata": {
        "id": "B6tTKN3XuUFs"
      },
      "execution_count": 37,
      "outputs": []
    },
    {
      "cell_type": "code",
      "source": [
        "from torchsummary import summary\n",
        "summary(ViT(), (3, 64, 64), device='cpu')"
      ],
      "metadata": {
        "colab": {
          "base_uri": "https://localhost:8080/"
        },
        "id": "tfZLg-qcuijZ",
        "outputId": "512d7650-8a03-45a3-f60e-d2aa88d8ec41"
      },
      "execution_count": 38,
      "outputs": [
        {
          "output_type": "stream",
          "name": "stdout",
          "text": [
            "----------------------------------------------------------------\n",
            "        Layer (type)               Output Shape         Param #\n",
            "================================================================\n",
            "            Conv2d-1            [-1, 768, 4, 4]         590,592\n",
            "         Rearrange-2              [-1, 16, 768]               0\n",
            "    PatchEmbedding-3              [-1, 17, 768]               0\n",
            "         LayerNorm-4              [-1, 17, 768]           1,536\n",
            "            Linear-5             [-1, 17, 2304]       1,771,776\n",
            "           Dropout-6            [-1, 8, 17, 17]               0\n",
            "            Linear-7              [-1, 17, 768]         590,592\n",
            "MultiHeadAttention-8              [-1, 17, 768]               0\n",
            "           Dropout-9              [-1, 17, 768]               0\n",
            "      ResidualAdd-10              [-1, 17, 768]               0\n",
            "        LayerNorm-11              [-1, 17, 768]           1,536\n",
            "           Linear-12             [-1, 17, 3072]       2,362,368\n",
            "             GELU-13             [-1, 17, 3072]               0\n",
            "          Dropout-14             [-1, 17, 3072]               0\n",
            "           Linear-15              [-1, 17, 768]       2,360,064\n",
            "          Dropout-16              [-1, 17, 768]               0\n",
            "      ResidualAdd-17              [-1, 17, 768]               0\n",
            "        LayerNorm-18              [-1, 17, 768]           1,536\n",
            "           Linear-19             [-1, 17, 2304]       1,771,776\n",
            "          Dropout-20            [-1, 8, 17, 17]               0\n",
            "           Linear-21              [-1, 17, 768]         590,592\n",
            "MultiHeadAttention-22              [-1, 17, 768]               0\n",
            "          Dropout-23              [-1, 17, 768]               0\n",
            "      ResidualAdd-24              [-1, 17, 768]               0\n",
            "        LayerNorm-25              [-1, 17, 768]           1,536\n",
            "           Linear-26             [-1, 17, 3072]       2,362,368\n",
            "             GELU-27             [-1, 17, 3072]               0\n",
            "          Dropout-28             [-1, 17, 3072]               0\n",
            "           Linear-29              [-1, 17, 768]       2,360,064\n",
            "          Dropout-30              [-1, 17, 768]               0\n",
            "      ResidualAdd-31              [-1, 17, 768]               0\n",
            "        LayerNorm-32              [-1, 17, 768]           1,536\n",
            "           Linear-33             [-1, 17, 2304]       1,771,776\n",
            "          Dropout-34            [-1, 8, 17, 17]               0\n",
            "           Linear-35              [-1, 17, 768]         590,592\n",
            "MultiHeadAttention-36              [-1, 17, 768]               0\n",
            "          Dropout-37              [-1, 17, 768]               0\n",
            "      ResidualAdd-38              [-1, 17, 768]               0\n",
            "        LayerNorm-39              [-1, 17, 768]           1,536\n",
            "           Linear-40             [-1, 17, 3072]       2,362,368\n",
            "             GELU-41             [-1, 17, 3072]               0\n",
            "          Dropout-42             [-1, 17, 3072]               0\n",
            "           Linear-43              [-1, 17, 768]       2,360,064\n",
            "          Dropout-44              [-1, 17, 768]               0\n",
            "      ResidualAdd-45              [-1, 17, 768]               0\n",
            "        LayerNorm-46              [-1, 17, 768]           1,536\n",
            "           Linear-47             [-1, 17, 2304]       1,771,776\n",
            "          Dropout-48            [-1, 8, 17, 17]               0\n",
            "           Linear-49              [-1, 17, 768]         590,592\n",
            "MultiHeadAttention-50              [-1, 17, 768]               0\n",
            "          Dropout-51              [-1, 17, 768]               0\n",
            "      ResidualAdd-52              [-1, 17, 768]               0\n",
            "        LayerNorm-53              [-1, 17, 768]           1,536\n",
            "           Linear-54             [-1, 17, 3072]       2,362,368\n",
            "             GELU-55             [-1, 17, 3072]               0\n",
            "          Dropout-56             [-1, 17, 3072]               0\n",
            "           Linear-57              [-1, 17, 768]       2,360,064\n",
            "          Dropout-58              [-1, 17, 768]               0\n",
            "      ResidualAdd-59              [-1, 17, 768]               0\n",
            "        LayerNorm-60              [-1, 17, 768]           1,536\n",
            "           Linear-61             [-1, 17, 2304]       1,771,776\n",
            "          Dropout-62            [-1, 8, 17, 17]               0\n",
            "           Linear-63              [-1, 17, 768]         590,592\n",
            "MultiHeadAttention-64              [-1, 17, 768]               0\n",
            "          Dropout-65              [-1, 17, 768]               0\n",
            "      ResidualAdd-66              [-1, 17, 768]               0\n",
            "        LayerNorm-67              [-1, 17, 768]           1,536\n",
            "           Linear-68             [-1, 17, 3072]       2,362,368\n",
            "             GELU-69             [-1, 17, 3072]               0\n",
            "          Dropout-70             [-1, 17, 3072]               0\n",
            "           Linear-71              [-1, 17, 768]       2,360,064\n",
            "          Dropout-72              [-1, 17, 768]               0\n",
            "      ResidualAdd-73              [-1, 17, 768]               0\n",
            "        LayerNorm-74              [-1, 17, 768]           1,536\n",
            "           Linear-75             [-1, 17, 2304]       1,771,776\n",
            "          Dropout-76            [-1, 8, 17, 17]               0\n",
            "           Linear-77              [-1, 17, 768]         590,592\n",
            "MultiHeadAttention-78              [-1, 17, 768]               0\n",
            "          Dropout-79              [-1, 17, 768]               0\n",
            "      ResidualAdd-80              [-1, 17, 768]               0\n",
            "        LayerNorm-81              [-1, 17, 768]           1,536\n",
            "           Linear-82             [-1, 17, 3072]       2,362,368\n",
            "             GELU-83             [-1, 17, 3072]               0\n",
            "          Dropout-84             [-1, 17, 3072]               0\n",
            "           Linear-85              [-1, 17, 768]       2,360,064\n",
            "          Dropout-86              [-1, 17, 768]               0\n",
            "      ResidualAdd-87              [-1, 17, 768]               0\n",
            "           Reduce-88                  [-1, 768]               0\n",
            "        LayerNorm-89                  [-1, 768]           1,536\n",
            "           Linear-90                   [-1, 10]           7,690\n",
            "================================================================\n",
            "Total params: 43,127,050\n",
            "Trainable params: 43,127,050\n",
            "Non-trainable params: 0\n",
            "----------------------------------------------------------------\n",
            "Input size (MB): 0.05\n",
            "Forward/backward pass size (MB): 14.75\n",
            "Params size (MB): 164.52\n",
            "Estimated Total Size (MB): 179.31\n",
            "----------------------------------------------------------------\n"
          ]
        }
      ]
    },
    {
      "cell_type": "code",
      "source": [
        "class Trainable(nn.Module):\n",
        "    def __init__(self, model,device,model_name):\n",
        "        super().__init__()\n",
        "        self.model = model.to(device)\n",
        "\n",
        "        self.optimizer = torch.optim.Adam(filter(lambda p: p.requires_grad, self.model.parameters()), lr=0.001)\n",
        "        self.loss_fn = nn.CrossEntropyLoss()\n",
        "        self.model_name = model_name\n",
        "\n",
        "\n",
        "    def forward(self, x):\n",
        "        return self.model(x)\n",
        "\n",
        "    def evaluate(self,dataloader):\n",
        "        self.eval()\n",
        "        size = len(dataloader.dataset)\n",
        "        num_batches = len(dataloader)\n",
        "        test_loss, correct = 0, 0\n",
        "        with torch.no_grad():\n",
        "            for X, y in dataloader:\n",
        "                X = X.cuda()\n",
        "                y = y.cuda()\n",
        "                pred = self.forward(X)\n",
        "                test_loss += self.loss_fn(pred, y).item()\n",
        "                correct += (pred.argmax(1) == y).type(torch.float).sum().item()\n",
        "\n",
        "        test_loss /= num_batches\n",
        "        correct /= size\n",
        "        return correct , test_loss\n",
        "\n",
        "    def train_one_epoch(self,dataloader):\n",
        "        self.train()\n",
        "        size = len(dataloader.dataset)\n",
        "        num_batches = len(dataloader)\n",
        "        train_loss,correct = 0,0\n",
        "        for batch, (X, y) in enumerate(dataloader):\n",
        "          # Compute prediction and loss\n",
        "          X = X.cuda()\n",
        "          y = y.cuda()\n",
        "          pred = self.forward(X)\n",
        "\n",
        "          # Backpropagation\n",
        "          self.optimizer.zero_grad()\n",
        "          self.loss_fn(pred,y).backward()\n",
        "          self.optimizer.step()\n",
        "\n",
        "        with torch.no_grad():\n",
        "          for X,y in dataloader:\n",
        "            X = X.cuda()\n",
        "            y = y.cuda()\n",
        "            pred = self.forward(X)\n",
        "            train_loss += self.loss_fn(pred,y).item()\n",
        "            correct += (pred.argmax(1)==y).type(torch.float).sum().item()\n",
        "        train_loss/=num_batches\n",
        "        correct/=size\n",
        "        return correct , train_loss\n",
        "\n",
        "\n",
        "    def fit(self,train_loader,test_loader,epochs):\n",
        "        train_acc = np.zeros(epochs)\n",
        "        train_loss = np.zeros(epochs)\n",
        "        test_acc = np.zeros(epochs)\n",
        "        test_loss = np.zeros(epochs)\n",
        "        first_time = time()\n",
        "        for epoch in range(epochs):\n",
        "        #   print(f\"Epoch {epoch+1}  \")\n",
        "          train_accuracy , train_cost = self.train_one_epoch(train_loader)\n",
        "          test_accuracy , test_cost = self.evaluate(test_loader)\n",
        "          train_acc[epoch] = train_accuracy\n",
        "          train_loss[epoch] = train_cost\n",
        "          test_acc[epoch] = test_accuracy\n",
        "          test_loss[epoch] = test_cost\n",
        "          second_time = time()\n",
        "          print(f\"Epoch {epoch+1} , in time {second_time-first_time} , Train Accuracy: {(100*train_accuracy):>0.1f}%, Avg train loss: {train_cost:>8f} , Test Accuracy: {(100*test_accuracy):>0.1f}%, Avg test loss: {test_cost:>8f} \\n\")\n",
        "        # save the model\n",
        "        torch.save(self.state_dict(),f=self.model_name)\n",
        "        return train_acc,train_loss,test_acc,test_loss"
      ],
      "metadata": {
        "id": "HH1K5vSuulWh"
      },
      "execution_count": 76,
      "outputs": []
    },
    {
      "cell_type": "code",
      "source": [
        "train_transformer = Compose([\n",
        "    tv.transforms.RandomCrop(32, padding=4),\n",
        "    tv.transforms.RandomHorizontalFlip(),\n",
        "    tv.transforms.Resize((64,64)),\n",
        "    tv.transforms.ToTensor(),\n",
        "    tv.transforms.Normalize((0.4914, 0.4822, 0.4465), (0.2023, 0.1994, 0.2010))\n",
        "])\n",
        "test_transformer = Compose([\n",
        "    tv.transforms.Resize((64,64)),\n",
        "    tv.transforms.ToTensor(),\n",
        "    tv.transforms.Normalize((0.4914, 0.4822, 0.4465), (0.2023, 0.1994, 0.2010))\n",
        "])"
      ],
      "metadata": {
        "id": "ci2Ca9yGwhC-"
      },
      "execution_count": 58,
      "outputs": []
    },
    {
      "cell_type": "code",
      "source": [
        "trainset = tv.datasets.CIFAR10(root='./data', train=True, download=True, transform=train_transformer)\n",
        "testset = tv.datasets.CIFAR10(root='./data', train=False, download=True, transform=test_transformer)"
      ],
      "metadata": {
        "colab": {
          "base_uri": "https://localhost:8080/"
        },
        "id": "BoOUK-VivYSh",
        "outputId": "031fc9bf-22fd-4631-b86e-ca45d1420378"
      },
      "execution_count": 59,
      "outputs": [
        {
          "output_type": "stream",
          "name": "stdout",
          "text": [
            "Files already downloaded and verified\n",
            "Files already downloaded and verified\n"
          ]
        }
      ]
    },
    {
      "cell_type": "code",
      "source": [
        "train_loader = torch.utils.data.DataLoader(trainset, batch_size=64, shuffle=True, num_workers=2)\n",
        "test_loader = torch.utils.data.DataLoader(testset, batch_size=64, shuffle=False, num_workers=2)"
      ],
      "metadata": {
        "id": "kjDeoqD9wfw_"
      },
      "execution_count": 60,
      "outputs": []
    },
    {
      "cell_type": "code",
      "source": [
        "device = torch.device('cuda' if torch.cuda.is_available() else 'cpu')\n",
        "device"
      ],
      "metadata": {
        "colab": {
          "base_uri": "https://localhost:8080/"
        },
        "id": "PIQnxNeaxuoc",
        "outputId": "cab59a1c-5d98-4c90-d866-c5c60af4caa2"
      },
      "execution_count": 61,
      "outputs": [
        {
          "output_type": "execute_result",
          "data": {
            "text/plain": [
              "device(type='cuda')"
            ]
          },
          "metadata": {},
          "execution_count": 61
        }
      ]
    },
    {
      "cell_type": "code",
      "source": [
        "model = ViT()\n",
        "model_trainable = Trainable(model,device)"
      ],
      "metadata": {
        "id": "xtMr9PaP0RRw"
      },
      "execution_count": 62,
      "outputs": []
    },
    {
      "cell_type": "code",
      "source": [
        "def plot_eval(train_acc,test_acc,train_loss,test_loss):\n",
        "    fig = plt.figure(figsize=(13,6))\n",
        "    # loss\n",
        "    ax = fig.add_subplot(121)\n",
        "    ax.set_title('Loss / Epoch')\n",
        "    ax.set_ylabel('Loss')\n",
        "    ax.set_xlabel('Epoch')\n",
        "    ax.set_aspect('auto')\n",
        "    plt.plot(train_loss, label='Train', color='blue', linewidth=3)\n",
        "    plt.plot(test_loss, label='Validation', color='red', linewidth=3)\n",
        "    plt.legend()\n",
        "    # acc\n",
        "    ax = fig.add_subplot(122)\n",
        "    ax.set_title('Accuracy / Epoch')\n",
        "    ax.set_ylabel('Accuracy')\n",
        "    ax.set_xlabel('Epoch')\n",
        "    ax.set_aspect('auto')\n",
        "    plt.plot(train_acc, label='Train', color='blue', linewidth=3)\n",
        "    plt.plot(test_acc, label='Validation', color='red', linewidth=3)\n",
        "    plt.legend()"
      ],
      "metadata": {
        "id": "OifmKOdw0TQA"
      },
      "execution_count": 63,
      "outputs": []
    },
    {
      "cell_type": "code",
      "source": [
        "train_acc , train_loss , test_acc , test_loss = model_trainable.fit(train_loader,test_loader,epochs=50)"
      ],
      "metadata": {
        "colab": {
          "base_uri": "https://localhost:8080/"
        },
        "id": "wrS8toxd0jdM",
        "outputId": "46b5502e-d79d-4017-f3a7-a4e20b0e7db6"
      },
      "execution_count": 64,
      "outputs": [
        {
          "output_type": "stream",
          "name": "stdout",
          "text": [
            "Epoch 1 , in time 116.13310289382935 , Train Accuracy: 27.1%, Avg train loss: 1.904308 , Test Accuracy: 26.8%, Avg test loss: 1.961231 \n",
            "\n",
            "Epoch 2 , in time 236.6177568435669 , Train Accuracy: 24.4%, Avg train loss: 1.949813 , Test Accuracy: 24.7%, Avg test loss: 1.956131 \n",
            "\n",
            "Epoch 3 , in time 356.709668636322 , Train Accuracy: 24.5%, Avg train loss: 2.003531 , Test Accuracy: 23.9%, Avg test loss: 1.987953 \n",
            "\n",
            "Epoch 4 , in time 476.46586632728577 , Train Accuracy: 26.0%, Avg train loss: 1.975844 , Test Accuracy: 26.7%, Avg test loss: 1.957948 \n",
            "\n",
            "Epoch 5 , in time 596.4615755081177 , Train Accuracy: 26.0%, Avg train loss: 1.926146 , Test Accuracy: 25.5%, Avg test loss: 1.954583 \n",
            "\n",
            "Epoch 6 , in time 716.0414245128632 , Train Accuracy: 28.8%, Avg train loss: 1.881261 , Test Accuracy: 28.9%, Avg test loss: 1.889661 \n",
            "\n",
            "Epoch 7 , in time 835.859653711319 , Train Accuracy: 30.1%, Avg train loss: 1.853854 , Test Accuracy: 30.7%, Avg test loss: 1.853507 \n",
            "\n",
            "Epoch 8 , in time 955.0436904430389 , Train Accuracy: 30.1%, Avg train loss: 1.843412 , Test Accuracy: 28.8%, Avg test loss: 1.856303 \n",
            "\n",
            "Epoch 9 , in time 1074.1039605140686 , Train Accuracy: 31.4%, Avg train loss: 1.832309 , Test Accuracy: 32.3%, Avg test loss: 1.834305 \n",
            "\n",
            "Epoch 10 , in time 1192.9145555496216 , Train Accuracy: 30.2%, Avg train loss: 1.849639 , Test Accuracy: 28.6%, Avg test loss: 1.942325 \n",
            "\n",
            "Epoch 11 , in time 1311.6522629261017 , Train Accuracy: 32.6%, Avg train loss: 1.803441 , Test Accuracy: 32.2%, Avg test loss: 1.852000 \n",
            "\n",
            "Epoch 12 , in time 1430.7095322608948 , Train Accuracy: 33.7%, Avg train loss: 1.768741 , Test Accuracy: 33.9%, Avg test loss: 1.781194 \n",
            "\n",
            "Epoch 13 , in time 1549.0126466751099 , Train Accuracy: 33.1%, Avg train loss: 1.768021 , Test Accuracy: 32.6%, Avg test loss: 1.811036 \n",
            "\n",
            "Epoch 14 , in time 1667.7749795913696 , Train Accuracy: 31.7%, Avg train loss: 1.808742 , Test Accuracy: 31.1%, Avg test loss: 1.852481 \n",
            "\n",
            "Epoch 15 , in time 1787.1126399040222 , Train Accuracy: 30.5%, Avg train loss: 1.851149 , Test Accuracy: 31.4%, Avg test loss: 1.846068 \n",
            "\n",
            "Epoch 16 , in time 1906.4837517738342 , Train Accuracy: 32.4%, Avg train loss: 1.792233 , Test Accuracy: 32.4%, Avg test loss: 1.807448 \n",
            "\n",
            "Epoch 17 , in time 2025.921534538269 , Train Accuracy: 31.3%, Avg train loss: 1.831554 , Test Accuracy: 31.2%, Avg test loss: 1.868788 \n",
            "\n",
            "Epoch 18 , in time 2144.6672024726868 , Train Accuracy: 32.6%, Avg train loss: 1.805647 , Test Accuracy: 32.4%, Avg test loss: 1.826390 \n",
            "\n",
            "Epoch 19 , in time 2263.5829751491547 , Train Accuracy: 33.4%, Avg train loss: 1.768061 , Test Accuracy: 32.6%, Avg test loss: 1.812968 \n",
            "\n",
            "Epoch 20 , in time 2382.117670059204 , Train Accuracy: 32.9%, Avg train loss: 1.784396 , Test Accuracy: 32.5%, Avg test loss: 1.808912 \n",
            "\n",
            "Epoch 21 , in time 2500.3932745456696 , Train Accuracy: 33.2%, Avg train loss: 1.787011 , Test Accuracy: 31.4%, Avg test loss: 1.868408 \n",
            "\n",
            "Epoch 22 , in time 2618.866679906845 , Train Accuracy: 31.7%, Avg train loss: 1.821709 , Test Accuracy: 31.7%, Avg test loss: 1.836289 \n",
            "\n",
            "Epoch 23 , in time 2737.3741199970245 , Train Accuracy: 32.5%, Avg train loss: 1.780892 , Test Accuracy: 32.6%, Avg test loss: 1.818534 \n",
            "\n",
            "Epoch 24 , in time 2856.1812682151794 , Train Accuracy: 32.7%, Avg train loss: 1.814447 , Test Accuracy: 30.3%, Avg test loss: 1.893138 \n",
            "\n",
            "Epoch 25 , in time 2974.610405445099 , Train Accuracy: 32.2%, Avg train loss: 1.813654 , Test Accuracy: 31.1%, Avg test loss: 1.886584 \n",
            "\n",
            "Epoch 26 , in time 3093.1986491680145 , Train Accuracy: 33.0%, Avg train loss: 1.788355 , Test Accuracy: 32.5%, Avg test loss: 1.802322 \n",
            "\n",
            "Epoch 27 , in time 3211.0453424453735 , Train Accuracy: 33.3%, Avg train loss: 1.766269 , Test Accuracy: 32.4%, Avg test loss: 1.800872 \n",
            "\n",
            "Epoch 28 , in time 3329.0870492458344 , Train Accuracy: 30.2%, Avg train loss: 1.873555 , Test Accuracy: 30.8%, Avg test loss: 1.850381 \n",
            "\n",
            "Epoch 29 , in time 3447.5275723934174 , Train Accuracy: 33.0%, Avg train loss: 1.796573 , Test Accuracy: 32.2%, Avg test loss: 1.839983 \n",
            "\n",
            "Epoch 30 , in time 3565.8482282161713 , Train Accuracy: 34.2%, Avg train loss: 1.757646 , Test Accuracy: 33.2%, Avg test loss: 1.837200 \n",
            "\n",
            "Epoch 31 , in time 3684.2535104751587 , Train Accuracy: 35.4%, Avg train loss: 1.726548 , Test Accuracy: 33.9%, Avg test loss: 1.776304 \n",
            "\n",
            "Epoch 32 , in time 3802.138151407242 , Train Accuracy: 34.8%, Avg train loss: 1.748055 , Test Accuracy: 32.8%, Avg test loss: 1.835821 \n",
            "\n",
            "Epoch 33 , in time 3920.5749566555023 , Train Accuracy: 35.5%, Avg train loss: 1.726305 , Test Accuracy: 33.5%, Avg test loss: 1.777773 \n",
            "\n",
            "Epoch 34 , in time 4038.2670016288757 , Train Accuracy: 34.8%, Avg train loss: 1.751434 , Test Accuracy: 33.4%, Avg test loss: 1.808723 \n",
            "\n",
            "Epoch 35 , in time 4156.182670116425 , Train Accuracy: 35.1%, Avg train loss: 1.742334 , Test Accuracy: 35.5%, Avg test loss: 1.733605 \n",
            "\n",
            "Epoch 36 , in time 4274.320825576782 , Train Accuracy: 35.2%, Avg train loss: 1.748732 , Test Accuracy: 33.7%, Avg test loss: 1.794783 \n",
            "\n",
            "Epoch 37 , in time 4392.044657945633 , Train Accuracy: 34.1%, Avg train loss: 1.782845 , Test Accuracy: 32.3%, Avg test loss: 1.838128 \n",
            "\n",
            "Epoch 38 , in time 4510.555047512054 , Train Accuracy: 35.1%, Avg train loss: 1.738914 , Test Accuracy: 33.3%, Avg test loss: 1.806571 \n",
            "\n",
            "Epoch 39 , in time 4629.054562807083 , Train Accuracy: 34.6%, Avg train loss: 1.755624 , Test Accuracy: 33.0%, Avg test loss: 1.831266 \n",
            "\n",
            "Epoch 40 , in time 4747.18107676506 , Train Accuracy: 34.5%, Avg train loss: 1.770759 , Test Accuracy: 34.8%, Avg test loss: 1.763676 \n",
            "\n",
            "Epoch 41 , in time 4864.863753080368 , Train Accuracy: 35.5%, Avg train loss: 1.713531 , Test Accuracy: 34.2%, Avg test loss: 1.779996 \n",
            "\n",
            "Epoch 42 , in time 4982.715762853622 , Train Accuracy: 37.4%, Avg train loss: 1.684503 , Test Accuracy: 35.6%, Avg test loss: 1.728872 \n",
            "\n",
            "Epoch 43 , in time 5100.909061908722 , Train Accuracy: 37.8%, Avg train loss: 1.679939 , Test Accuracy: 35.8%, Avg test loss: 1.743874 \n",
            "\n",
            "Epoch 44 , in time 5218.8924107551575 , Train Accuracy: 37.0%, Avg train loss: 1.687111 , Test Accuracy: 34.6%, Avg test loss: 1.770613 \n",
            "\n",
            "Epoch 45 , in time 5337.055855512619 , Train Accuracy: 37.6%, Avg train loss: 1.681994 , Test Accuracy: 37.0%, Avg test loss: 1.711465 \n",
            "\n",
            "Epoch 46 , in time 5454.852563858032 , Train Accuracy: 36.1%, Avg train loss: 1.732929 , Test Accuracy: 34.8%, Avg test loss: 1.788243 \n",
            "\n",
            "Epoch 47 , in time 5572.96383357048 , Train Accuracy: 35.9%, Avg train loss: 1.722839 , Test Accuracy: 32.9%, Avg test loss: 1.820852 \n",
            "\n",
            "Epoch 48 , in time 5690.777508497238 , Train Accuracy: 36.5%, Avg train loss: 1.699423 , Test Accuracy: 35.5%, Avg test loss: 1.735962 \n",
            "\n",
            "Epoch 49 , in time 5808.90475153923 , Train Accuracy: 37.9%, Avg train loss: 1.670793 , Test Accuracy: 36.2%, Avg test loss: 1.729307 \n",
            "\n",
            "Epoch 50 , in time 5926.516921520233 , Train Accuracy: 38.1%, Avg train loss: 1.667091 , Test Accuracy: 36.9%, Avg test loss: 1.711850 \n",
            "\n"
          ]
        }
      ]
    },
    {
      "cell_type": "code",
      "source": [
        "plot_eval(train_acc,test_acc,train_loss,test_loss)"
      ],
      "metadata": {
        "colab": {
          "base_uri": "https://localhost:8080/",
          "height": 404
        },
        "id": "IyEENW0g0rZ4",
        "outputId": "89bf319f-295d-4316-8167-f520199a3f14"
      },
      "execution_count": 65,
      "outputs": [
        {
          "output_type": "display_data",
          "data": {
            "text/plain": [
              "<Figure size 936x432 with 2 Axes>"
            ],
            "image/png": "[encoded data removed]"
          },
          "metadata": {
            "needs_background": "light"
          }
        }
      ]
    },
    {
      "cell_type": "code",
      "source": [
        "different_models = {\n",
        "    \"vit_depth:2\":ViT(depth=2),\n",
        "    \"vit_depth:8\":ViT(depth=8),\n",
        "    \"vit_depth:12\":ViT(depth=12)\n",
        "}"
      ],
      "metadata": {
        "id": "bw_oQvR6Mltx"
      },
      "execution_count": 66,
      "outputs": []
    },
    {
      "cell_type": "code",
      "source": [
        "models_results = {}\n",
        "for model_ in different_models:\n",
        "  trainable = Trainable(model=different_models[model_],device=device,model_name=model_)\n",
        "  train_acc , train_loss , test_acc,test_loss = trainable.fit(train_loader,test_loader,epochs=8)\n",
        "  models_results[model_] = {\n",
        "      \"train_acc\":train_acc,\n",
        "      \"train_loss\":train_loss,\n",
        "      \"test_acc\":test_acc,\n",
        "      \"test_loss\":test_loss\n",
        "  }\n",
        "\n"
      ],
      "metadata": {
        "colab": {
          "base_uri": "https://localhost:8080/"
        },
        "id": "kMfQ8d2tNGjV",
        "outputId": "9c5f21f5-3280-468d-cdf9-9e17dcb49887"
      },
      "execution_count": null,
      "outputs": [
        {
          "output_type": "stream",
          "name": "stdout",
          "text": [
            "Epoch 1 , in time 57.27740931510925 , Train Accuracy: 36.2%, Avg train loss: 1.717675 , Test Accuracy: 34.5%, Avg test loss: 1.788085 \n",
            "\n",
            "Epoch 2 , in time 115.61855483055115 , Train Accuracy: 36.3%, Avg train loss: 1.713447 , Test Accuracy: 35.5%, Avg test loss: 1.752300 \n",
            "\n",
            "Epoch 3 , in time 173.4319794178009 , Train Accuracy: 38.2%, Avg train loss: 1.667695 , Test Accuracy: 37.6%, Avg test loss: 1.729188 \n",
            "\n",
            "Epoch 4 , in time 230.81492733955383 , Train Accuracy: 38.8%, Avg train loss: 1.647281 , Test Accuracy: 38.5%, Avg test loss: 1.674245 \n",
            "\n",
            "Epoch 5 , in time 289.2316246032715 , Train Accuracy: 37.8%, Avg train loss: 1.666406 , Test Accuracy: 36.6%, Avg test loss: 1.730083 \n",
            "\n",
            "Epoch 6 , in time 347.0708861351013 , Train Accuracy: 39.4%, Avg train loss: 1.640178 , Test Accuracy: 37.4%, Avg test loss: 1.721866 \n",
            "\n",
            "Epoch 7 , in time 404.425612449646 , Train Accuracy: 38.1%, Avg train loss: 1.677031 , Test Accuracy: 38.5%, Avg test loss: 1.693219 \n",
            "\n",
            "Epoch 8 , in time 461.76024889945984 , Train Accuracy: 38.6%, Avg train loss: 1.669599 , Test Accuracy: 36.4%, Avg test loss: 1.734039 \n",
            "\n",
            "Epoch 1 , in time 157.98542428016663 , Train Accuracy: 24.6%, Avg train loss: 1.980296 , Test Accuracy: 28.0%, Avg test loss: 1.931731 \n",
            "\n",
            "Epoch 2 , in time 314.61046957969666 , Train Accuracy: 27.0%, Avg train loss: 1.919027 , Test Accuracy: 26.1%, Avg test loss: 1.933237 \n",
            "\n",
            "Epoch 3 , in time 471.6361343860626 , Train Accuracy: 28.3%, Avg train loss: 1.875838 , Test Accuracy: 27.3%, Avg test loss: 1.905863 \n",
            "\n",
            "Epoch 4 , in time 628.6901752948761 , Train Accuracy: 28.6%, Avg train loss: 1.875576 , Test Accuracy: 28.9%, Avg test loss: 1.885155 \n",
            "\n",
            "Epoch 5 , in time 785.6026482582092 , Train Accuracy: 29.3%, Avg train loss: 1.903101 , Test Accuracy: 29.0%, Avg test loss: 1.930692 \n",
            "\n",
            "Epoch 6 , in time 942.738538980484 , Train Accuracy: 30.2%, Avg train loss: 1.863301 , Test Accuracy: 29.4%, Avg test loss: 1.887560 \n",
            "\n",
            "Epoch 7 , in time 1099.1900827884674 , Train Accuracy: 26.1%, Avg train loss: 1.949857 , Test Accuracy: 24.8%, Avg test loss: 1.989098 \n",
            "\n",
            "Epoch 8 , in time 1255.9674758911133 , Train Accuracy: 28.8%, Avg train loss: 1.885355 , Test Accuracy: 28.7%, Avg test loss: 1.930975 \n",
            "\n",
            "Epoch 1 , in time 235.79892539978027 , Train Accuracy: 27.9%, Avg train loss: 1.921306 , Test Accuracy: 27.8%, Avg test loss: 1.907562 \n",
            "\n",
            "Epoch 2 , in time 471.32791686058044 , Train Accuracy: 26.9%, Avg train loss: 1.929187 , Test Accuracy: 26.3%, Avg test loss: 1.940275 \n",
            "\n",
            "Epoch 3 , in time 706.8599426746368 , Train Accuracy: 26.7%, Avg train loss: 1.935140 , Test Accuracy: 28.0%, Avg test loss: 1.917418 \n",
            "\n",
            "Epoch 4 , in time 942.6129748821259 , Train Accuracy: 25.5%, Avg train loss: 1.975598 , Test Accuracy: 27.0%, Avg test loss: 1.944442 \n",
            "\n",
            "Epoch 5 , in time 1178.3191027641296 , Train Accuracy: 28.7%, Avg train loss: 1.919412 , Test Accuracy: 29.1%, Avg test loss: 1.924733 \n",
            "\n"
          ]
        }
      ]
    },
    {
      "cell_type": "code",
      "source": [
        "for x in different_models:\n",
        "  print(x)"
      ],
      "metadata": {
        "colab": {
          "base_uri": "https://localhost:8080/"
        },
        "id": "z2ZyJwIcNRmV",
        "outputId": "0cf683b0-80c3-4415-d2ca-7ca03aa5afa5"
      },
      "execution_count": 70,
      "outputs": [
        {
          "output_type": "stream",
          "name": "stdout",
          "text": [
            "vit_depth:2\n",
            "vit_depth:8\n",
            "vit_depth:12\n"
          ]
        }
      ]
    },
    {
      "cell_type": "code",
      "source": [],
      "metadata": {
        "id": "MRCDsagtNjBl"
      },
      "execution_count": null,
      "outputs": []
    }
  ]
}